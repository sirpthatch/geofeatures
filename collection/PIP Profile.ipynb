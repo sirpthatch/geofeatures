{
 "cells": [
  {
   "cell_type": "code",
   "execution_count": 29,
   "id": "18989032",
   "metadata": {},
   "outputs": [],
   "source": [
    "import pandas as pd\n",
    "from sodapy import Socrata\n",
    "\n",
    "dataset_config = {\n",
    "    \"title\":\"Comfort Station Inspections\",\n",
    "    \"socrata_id\":\"yp6n-7jdy\",\n",
    "    \"socrata_namespace\":\"data.cityofnewyork.us\"\n",
    "}\n",
    "client = Socrata(\"data.cityofnewyork.us\", \"vEUBKu3P8QsxJmWpSjMORW8Iv\")\n",
    "\n",
    "def get_data(dataset_code,dataset_name):\n",
    "    results = client.get(\"yp6n-7jdy\",limit=50000)\n",
    "    if len(results) > 50000:\n",
    "        print(\"Results likely capped at maximum (50000)\")\n",
    "\n",
    "    results_df = pd.DataFrame.from_records(results)\n",
    "    results_df[\"dataset_code\"] = dataset_code\n",
    "    results_df[\"dataset_name\"] = dataset_name\n",
    "    return results_df\n",
    "# Comfort station reference data: https://dev.socrata.com/foundry/data.cityofnewyork.us/buk3-3qpr"
   ]
  },
  {
   "cell_type": "code",
   "execution_count": 35,
   "id": "a98bae03",
   "metadata": {},
   "outputs": [],
   "source": [
    "# Data Dictionary: https://docs.google.com/spreadsheets/d/17LSfFUkhHPHJS4hszOYMVmVyU3xVF7J_dILhtIwWKKA/edit#gid=755751762\n",
    "pip_comfort_station_room_inspections_df = get_data(\"yp6n-7jdy\",\"Comfort Station Room Inspections\")\n",
    "pip_comfort_station_inspections_df = get_data(\"mp8v-wjtf\",\"Comfort Station Inspections\")\n",
    "pip_comfort_stations_df = get_data(\"9byw-znpj\",\"Comfort Stations\")\n",
    "pip_all_sites_mapped_df = get_data(\"buk3-3qpr\",\"Park Reference\")\n",
    "pip_all_sites_unmapped_df = get_data(\"xs5m-jrpm\",\"Parks-Inspection-Program-All-Sites-UNMAPPED\")\n",
    "pip_conditions_comfort_station_conditions_df = get_data(\"r8mb-budb\",\"Parks-Inspection-Program-Comfort-Station-Condition\")\n",
    "pip_conditions_hazards_df = get_data(\"ibip-ftv5\",\"Parks-Inspection-Program-Conditions-Hazards\")\n",
    "pip_construction_information_df = get_data(\"9yid-w4y8\",\"Parks-Inspection-Program-Construction-Information\")\n",
    "pip_inspections_df = get_data(\"yg3y-7juh\",\"Parks-Inspection-Program-Inspections\")\n",
    "pip_daily_immediate_attentions_df = get_data(\"s6dm-mdan\",\"Parks-Inspection-Program-Daily-Immediate-Attention\")\n"
   ]
  },
  {
   "cell_type": "code",
   "execution_count": 33,
   "id": "96cf154a",
   "metadata": {
    "scrolled": false
   },
   "outputs": [
    {
     "name": "stdout",
     "output_type": "stream",
     "text": [
      "      inspectionid csnumber  mw ovcond isclosed isofficially handdryersam  \\\n",
      "0            32597        1  M1      A        0            0            0   \n",
      "1            32597        1  W1      A        0            0            0   \n",
      "2            32613        1  M1      A        0            0            0   \n",
      "3            32613        1  W1      A        0            0            0   \n",
      "4            32627        1  M1      U        1            1            0   \n",
      "...            ...      ...  ..    ...      ...          ...          ...   \n",
      "48805       167658        1  W1      A        0            0            0   \n",
      "48806       167659        1  M1      A        0            0            1   \n",
      "48807       167659        1  W1      N        0            0            1   \n",
      "48808       167675        1  M1      A        0            0            1   \n",
      "48809       167675        1  W1      A        0            0            1   \n",
      "\n",
      "      changingtablesam mirrorsam urinalsam  ...        sinkscomm  \\\n",
      "0                    0         0       NaN  ...              NaN   \n",
      "1                    0         0       NaN  ...              NaN   \n",
      "2                    0         0       NaN  ...              NaN   \n",
      "3                    0         0       NaN  ...              NaN   \n",
      "4                    0         0       NaN  ...              NaN   \n",
      "...                ...       ...       ...  ...              ...   \n",
      "48805                0         1       NaN  ...        Porcelain   \n",
      "48806                1         3         3  ...  Stainless Steel   \n",
      "48807                1         4       NaN  ...  Stainless Steel   \n",
      "48808                1         0         4  ...  Stainless Steel   \n",
      "48809                1         2       NaN  ...  Stainless Steel   \n",
      "\n",
      "      toiletpaperdispam                    toiletpaperdispcomm soapdispam  \\\n",
      "0                   NaN                                    NaN        NaN   \n",
      "1                   NaN                                    NaN        NaN   \n",
      "2                   NaN                                    NaN        NaN   \n",
      "3                   NaN                                    NaN        NaN   \n",
      "4                   NaN                                    NaN        NaN   \n",
      "...                 ...                                    ...        ...   \n",
      "48805                 3                               Standard          1   \n",
      "48806                 3  Multi Roll - Enclosed Stainless Steel          3   \n",
      "48807                 8  Multi Roll - Enclosed Stainless Steel          4   \n",
      "48808                 3  Multi Roll - Enclosed Stainless Steel          1   \n",
      "48809                 5  Multi Roll - Enclosed Stainless Steel          1   \n",
      "\n",
      "          soapdispcomm papertoweldispam papertoweldispcomm  \\\n",
      "0                  NaN              NaN                NaN   \n",
      "1                  NaN              NaN                NaN   \n",
      "2                  NaN              NaN                NaN   \n",
      "3                  NaN              NaN                NaN   \n",
      "4                  NaN              NaN                NaN   \n",
      "...                ...              ...                ...   \n",
      "48805            Other                1              Other   \n",
      "48806  Stainless Steel                0                NaN   \n",
      "48807  Stainless Steel                0                NaN   \n",
      "48808       Soap Globe                0                NaN   \n",
      "48809  Stainless Steel                0                NaN   \n",
      "\n",
      "                                          comm dataset_code  \\\n",
      "0                                          NaN    yp6n-7jdy   \n",
      "1                                          NaN    yp6n-7jdy   \n",
      "2                                          NaN    yp6n-7jdy   \n",
      "3                                          NaN    yp6n-7jdy   \n",
      "4                                          NaN    yp6n-7jdy   \n",
      "...                                        ...          ...   \n",
      "48805                                      NaN    yp6n-7jdy   \n",
      "48806                                      NaN    yp6n-7jdy   \n",
      "48807  Not rated due to continuous patron use.    yp6n-7jdy   \n",
      "48808                                      NaN    yp6n-7jdy   \n",
      "48809                                      NaN    yp6n-7jdy   \n",
      "\n",
      "                           dataset_name  \n",
      "0      Comfort Station Room Inspections  \n",
      "1      Comfort Station Room Inspections  \n",
      "2      Comfort Station Room Inspections  \n",
      "3      Comfort Station Room Inspections  \n",
      "4      Comfort Station Room Inspections  \n",
      "...                                 ...  \n",
      "48805  Comfort Station Room Inspections  \n",
      "48806  Comfort Station Room Inspections  \n",
      "48807  Comfort Station Room Inspections  \n",
      "48808  Comfort Station Room Inspections  \n",
      "48809  Comfort Station Room Inspections  \n",
      "\n",
      "[48810 rows x 24 columns]\n",
      "  inspectionid csnumber  mw ovcond isclosed isofficially handdryersam  \\\n",
      "0        32597        1  M1      A        0            0            0   \n",
      "1        32597        1  W1      A        0            0            0   \n",
      "2        32613        1  M1      A        0            0            0   \n",
      "3        32613        1  W1      A        0            0            0   \n",
      "4        32627        1  M1      U        1            1            0   \n",
      "\n",
      "  changingtablesam mirrorsam urinalsam  ... sinkscomm toiletpaperdispam  \\\n",
      "0                0         0       NaN  ...       NaN               NaN   \n",
      "1                0         0       NaN  ...       NaN               NaN   \n",
      "2                0         0       NaN  ...       NaN               NaN   \n",
      "3                0         0       NaN  ...       NaN               NaN   \n",
      "4                0         0       NaN  ...       NaN               NaN   \n",
      "\n",
      "  toiletpaperdispcomm soapdispam soapdispcomm papertoweldispam  \\\n",
      "0                 NaN        NaN          NaN              NaN   \n",
      "1                 NaN        NaN          NaN              NaN   \n",
      "2                 NaN        NaN          NaN              NaN   \n",
      "3                 NaN        NaN          NaN              NaN   \n",
      "4                 NaN        NaN          NaN              NaN   \n",
      "\n",
      "  papertoweldispcomm comm dataset_code                 dataset_name  \n",
      "0                NaN  NaN    mp8v-wjtf  Comfort Station Inspections  \n",
      "1                NaN  NaN    mp8v-wjtf  Comfort Station Inspections  \n",
      "2                NaN  NaN    mp8v-wjtf  Comfort Station Inspections  \n",
      "3                NaN  NaN    mp8v-wjtf  Comfort Station Inspections  \n",
      "4                NaN  NaN    mp8v-wjtf  Comfort Station Inspections  \n",
      "\n",
      "[5 rows x 24 columns]\n"
     ]
    }
   ],
   "source": [
    "print(comfort_station_room_inspections_df)\n",
    "print(comfort_station_inspections_df.head())\n",
    "#print(park_reference_df.head())\n",
    "#print(comfort_station_reference_df.head())"
   ]
  },
  {
   "cell_type": "code",
   "execution_count": null,
   "id": "b62e1c43",
   "metadata": {},
   "outputs": [],
   "source": [
    "# Explore Graffiti, Hazards"
   ]
  },
  {
   "cell_type": "code",
   "execution_count": null,
   "id": "bab574bb",
   "metadata": {},
   "outputs": [],
   "source": [
    "# Closests changing table"
   ]
  },
  {
   "cell_type": "code",
   "execution_count": null,
   "id": "bfc1d6db",
   "metadata": {},
   "outputs": [],
   "source": [
    "# Closest bathroom - concentration of bathrooms throughout the city, quality"
   ]
  },
  {
   "cell_type": "code",
   "execution_count": null,
   "id": "7e591ffc",
   "metadata": {},
   "outputs": [],
   "source": [
    "# Inspector Bias"
   ]
  }
 ],
 "metadata": {
  "kernelspec": {
   "display_name": "Python 3 (ipykernel)",
   "language": "python",
   "name": "python3"
  },
  "language_info": {
   "codemirror_mode": {
    "name": "ipython",
    "version": 3
   },
   "file_extension": ".py",
   "mimetype": "text/x-python",
   "name": "python",
   "nbconvert_exporter": "python",
   "pygments_lexer": "ipython3",
   "version": "3.8.2"
  }
 },
 "nbformat": 4,
 "nbformat_minor": 5
}
